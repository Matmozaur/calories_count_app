{
 "cells": [
  {
   "cell_type": "code",
   "execution_count": 1,
   "metadata": {},
   "outputs": [
    {
     "name": "stderr",
     "output_type": "stream",
     "text": [
      "c:\\Users\\Admin\\anaconda3\\envs\\jupyterlab\\Lib\\site-packages\\tqdm\\auto.py:21: TqdmWarning: IProgress not found. Please update jupyter and ipywidgets. See https://ipywidgets.readthedocs.io/en/stable/user_install.html\n",
      "  from .autonotebook import tqdm as notebook_tqdm\n",
      "The cache for model files in Transformers v4.22.0 has been updated. Migrating your old cache. This is a one-time only operation. You can interrupt this and resume the migration later on by calling `transformers.utils.move_cache()`.\n",
      "0it [00:00, ?it/s]\n"
     ]
    }
   ],
   "source": [
    "from transformers import AutoTokenizer, AutoModelForCausalLM\n",
    "import torch"
   ]
  },
  {
   "cell_type": "code",
   "execution_count": 2,
   "metadata": {},
   "outputs": [],
   "source": [
    "# Load GPT-Neo 1.3B model and tokenizer\n",
    "model_name = \"EleutherAI/gpt-neo-1.3B\"  # Model name for GPT-Neo 1.3B\n",
    "tokenizer = AutoTokenizer.from_pretrained(model_name)\n",
    "model = AutoModelForCausalLM.from_pretrained(model_name, device_map=\"auto\", torch_dtype=torch.float16)\n",
    "\n",
    "# Set pad_token to eos_token if it's not already defined\n",
    "if tokenizer.pad_token is None:\n",
    "    tokenizer.pad_token = tokenizer.eos_token\n",
    "\n"
   ]
  },
  {
   "cell_type": "code",
   "execution_count": 3,
   "metadata": {},
   "outputs": [],
   "source": [
    "def extract_calories_with_gpt_neo(meal_description):\n",
    "    # Create the prompt for the model\n",
    "    prompt = f\"\"\"\n",
    "    Count words in the input:\n",
    "    \"{meal_description}\"\n",
    "\n",
    "    Provide as a number\n",
    "    \"\"\"\n",
    "\n",
    "    \n",
    "    # Tokenize the input prompt\n",
    "    inputs = tokenizer(prompt, return_tensors=\"pt\", padding=True, truncation=True, add_special_tokens=True).to(model.device)\n",
    "    \n",
    "    # Ensure the attention mask and pad_token_id are set\n",
    "    attention_mask = inputs[\"attention_mask\"]\n",
    "    pad_token_id = tokenizer.pad_token_id\n",
    "\n",
    "    # Generate the output (response) from the model\n",
    "    outputs = model.generate(\n",
    "        inputs[\"input_ids\"], \n",
    "        max_length=60,  # Limit the length to prevent excessive text generation\n",
    "        temperature=0.2,  # Lower temperature for more deterministic outputs\n",
    "        num_return_sequences=1,  # Generate a single response\n",
    "        do_sample=False,  # Disable sampling to make the output deterministic\n",
    "        attention_mask=attention_mask,  # Pass the attention mask\n",
    "        pad_token_id=pad_token_id  # Pass the pad token id\n",
    "    )\n",
    "\n",
    "    response = tokenizer.decode(outputs[0], skip_special_tokens=True)\n",
    "\n",
    "    return response\n",
    "    \n",
    "    # # Debug: Print the full response to inspect it\n",
    "    # print(\"Response from GPT-Neo 1.3B:\")\n",
    "    # print(response)\n",
    "\n",
    "    # # Extract the calorie estimate (the last number in the response)\n",
    "    # try:\n",
    "    #     calorie_estimate = int([word for word in response.split() if word.isdigit()][-1])\n",
    "    #     return calorie_estimate\n",
    "    # except ValueError:\n",
    "    #     return \"Error parsing response\"\n"
   ]
  },
  {
   "cell_type": "code",
   "execution_count": 5,
   "metadata": {},
   "outputs": [
    {
     "name": "stdout",
     "output_type": "stream",
     "text": [
      "Meal: toast with butter and a cup of coffee with milk.\n",
      "Estimated Calories: \n",
      "    Count words in the input:\n",
      "    \"toast with butter and a cup of coffee with milk.\"\n",
      "\n",
      "    Provide as a number\n",
      "        the number of words in the input:\n",
      "        \"\n",
      "\n",
      "Meal: bowl of chicken salad with dressing.\n",
      "Estimated Calories: \n",
      "    Count words in the input:\n",
      "    \"bowl of chicken salad with dressing.\"\n",
      "\n",
      "    Provide as a number\n",
      "                             \n",
      "\n",
      "Meal: spaghetti bolognese with garlic bread.\n",
      "Estimated Calories: \n",
      "    Count words in the input:\n",
      "    \"spaghetti bolognese with garlic bread.\"\n",
      "\n",
      "    Provide as a number\n",
      "                          \n",
      "\n"
     ]
    }
   ],
   "source": [
    "\n",
    "# Sample meal descriptions\n",
    "meal_texts = [\n",
    "    \"toast with butter and a cup of coffee with milk.\",\n",
    "    \"bowl of chicken salad with dressing.\",\n",
    "    \"spaghetti bolognese with garlic bread.\",\n",
    "]\n",
    "\n",
    "# Extract calorie estimates\n",
    "for meal in meal_texts:\n",
    "    estimated_calories = extract_calories_with_gpt_neo(meal)\n",
    "    print(f\"Meal: {meal}\\nEstimated Calories: {estimated_calories}\\n\")\n"
   ]
  },
  {
   "cell_type": "code",
   "execution_count": 56,
   "metadata": {},
   "outputs": [
    {
     "data": {
      "text/plain": [
       "'\\n    Estimate the calorie content of the following meal:\\n    \"glass of milk\"\\n\\n    Provide only the calorie estimate as a number, and nothing else. Example: 400\\n      calories.\\n\\n        '"
      ]
     },
     "execution_count": 56,
     "metadata": {},
     "output_type": "execute_result"
    }
   ],
   "source": [
    "extract_calories_with_gpt_neo('glass of milk')"
   ]
  },
  {
   "cell_type": "code",
   "execution_count": 51,
   "metadata": {},
   "outputs": [
    {
     "data": {
      "text/plain": [
       "'spaghetti bolognese with garlic bread.'"
      ]
     },
     "execution_count": 51,
     "metadata": {},
     "output_type": "execute_result"
    }
   ],
   "source": [
    "meal"
   ]
  },
  {
   "cell_type": "code",
   "execution_count": 52,
   "metadata": {},
   "outputs": [
    {
     "data": {
      "text/plain": [
       "'\\nEstimate the calorie content of the following meal:\\n\"For dinner, I had spaghetti bolognese with garlic bread, totaling about 700 calories.\"\\n\\nProvide only the calorie estimate as a number.\\n\\nProvide only the'"
      ]
     },
     "execution_count": 52,
     "metadata": {},
     "output_type": "execute_result"
    }
   ],
   "source": [
    "estimated_calories"
   ]
  },
  {
   "cell_type": "code",
   "execution_count": null,
   "metadata": {},
   "outputs": [],
   "source": []
  },
  {
   "cell_type": "code",
   "execution_count": 62,
   "metadata": {},
   "outputs": [],
   "source": [
    "# from transformers import AutoTokenizer, AutoModelForCausalLM\n",
    "\n",
    "# # Load LLaMA 2 model from Hugging Face\n",
    "# model_name = \"meta-llama/Llama-2-7b-chat-hf\"\n",
    "# tokenizer = AutoTokenizer.from_pretrained(model_name)\n",
    "# model = AutoModelForCausalLM.from_pretrained(model_name)\n",
    "\n",
    "# # Sample meal description\n",
    "# meal_description = \"A glass of milk.\"\n",
    "\n",
    "# # Create a prompt\n",
    "# prompt = f\"\"\"\n",
    "# Estimate the calorie content of the following meal:\n",
    "# \"{meal_description}\"\n",
    "\n",
    "# Provide only the calorie estimate as a number, for example: 150.\n",
    "# \"\"\"\n",
    "\n",
    "# # Tokenize the input prompt\n",
    "# inputs = tokenizer(prompt, return_tensors=\"pt\", padding=True, truncation=True)\n",
    "\n",
    "# # Generate the output (response) from the model\n",
    "# outputs = model.generate(inputs[\"input_ids\"], max_length=20, do_sample=False)\n",
    "\n",
    "# # Decode and print the response\n",
    "# response = tokenizer.decode(outputs[0], skip_special_tokens=True)\n",
    "# print(response)\n"
   ]
  },
  {
   "cell_type": "code",
   "execution_count": null,
   "metadata": {},
   "outputs": [],
   "source": []
  }
 ],
 "metadata": {
  "kernelspec": {
   "display_name": "jupyterlab",
   "language": "python",
   "name": "python3"
  },
  "language_info": {
   "codemirror_mode": {
    "name": "ipython",
    "version": 3
   },
   "file_extension": ".py",
   "mimetype": "text/x-python",
   "name": "python",
   "nbconvert_exporter": "python",
   "pygments_lexer": "ipython3",
   "version": "3.12.7"
  }
 },
 "nbformat": 4,
 "nbformat_minor": 2
}
